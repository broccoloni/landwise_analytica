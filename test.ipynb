{
 "cells": [
  {
   "cell_type": "code",
   "execution_count": 14,
   "id": "da923756-3a17-4fde-9422-b15662179e17",
   "metadata": {},
   "outputs": [],
   "source": [
    "import geopandas as gpd\n",
    "import fiona\n",
    "import folium"
   ]
  },
  {
   "cell_type": "code",
   "execution_count": 5,
   "id": "a17fa580-2919-4072-97fe-36afda4ebba9",
   "metadata": {},
   "outputs": [],
   "source": [
    "# Path to the geodatabase\n",
    "gdb_path = \"pmbc_parcel_fabric_poly_svw.gdb\""
   ]
  },
  {
   "cell_type": "code",
   "execution_count": 6,
   "id": "d5ca8860-d604-4629-b9c5-f22212f3b899",
   "metadata": {},
   "outputs": [
    {
     "name": "stdout",
     "output_type": "stream",
     "text": [
      "Available layers: ['pmbc_parcel_fabric_poly_svw']\n"
     ]
    },
    {
     "name": "stderr",
     "output_type": "stream",
     "text": [
      "/home/liamgraham123/landwise_analytica/landwise_env/lib/python3.11/site-packages/pyogrio/raw.py:198: RuntimeWarning: organizePolygons() received a polygon with more than 100 parts. The processing may be really slow.  You can skip the processing by setting METHOD=SKIP, or only make it analyze counter-clock wise parts by setting METHOD=ONLY_CCW if you can assume that the outline of holes is counter-clock wise defined\n",
      "  return ogr_read(\n"
     ]
    },
    {
     "name": "stdout",
     "output_type": "stream",
     "text": [
      "   PARCEL_FABRIC_POLY_ID PARCEL_NAME PLAN_NUMBER  PIN         PID  \\\n",
      "0                 719065        Road    EPP39710  NaN         NaN   \n",
      "1                 719070   012462314     NWP2004  NaN  12462314.0   \n",
      "2                 719075   017150728    NWP88218  NaN  17150728.0   \n",
      "3                 719080   013190121     NO_PLAN  NaN  13190121.0   \n",
      "4                 719085   023452145    LMP28743  NaN  23452145.0   \n",
      "\n",
      "  PARCEL_STATUS PARCEL_CLASS        OWNER_TYPE PARCEL_START_DATE  \\\n",
      "0        Active         Road  Local Government               NaT   \n",
      "1        Active  Subdivision  Local Government        1997-02-13   \n",
      "2        Active  Subdivision  Local Government               NaT   \n",
      "3        Active  Subdivision  Local Government               NaT   \n",
      "4        Active  Subdivision  Local Government        1996-06-25   \n",
      "\n",
      "      MUNICIPALITY                  REGIONAL_DISTRICT        WHEN_UPDATED  \\\n",
      "0  Surrey, City of  Metro Vancouver Regional District 2024-08-18 17:20:23   \n",
      "1  Surrey, City of  Metro Vancouver Regional District 2024-08-18 17:20:29   \n",
      "2  Surrey, City of  Metro Vancouver Regional District 2024-08-18 17:20:29   \n",
      "3  Surrey, City of  Metro Vancouver Regional District 2024-08-18 17:20:36   \n",
      "4  Surrey, City of  Metro Vancouver Regional District 2024-08-18 17:20:36   \n",
      "\n",
      "   FEATURE_AREA_SQM  FEATURE_LENGTH_M SE_ANNO_CAD_DATA  \\\n",
      "0          158.9580          110.7478             None   \n",
      "1          660.7277          106.9123             None   \n",
      "2        53513.2709         1014.0334             None   \n",
      "3         2397.3899          202.6798             None   \n",
      "4         2965.8983          367.8396             None   \n",
      "\n",
      "                                            geometry  \n",
      "0  MULTIPOLYGON (((1231687.55 468848.768, 1231636...  \n",
      "1  MULTIPOLYGON (((1235402.83 468619.98, 1235383....  \n",
      "2  MULTIPOLYGON (((1240199.735 460082.267, 124015...  \n",
      "3  MULTIPOLYGON (((1236624.898 468064.517, 123656...  \n",
      "4  MULTIPOLYGON (((1239314.87 468401.466, 1239309...  \n"
     ]
    }
   ],
   "source": [
    "# List all available layers in the geodatabase\n",
    "layers = fiona.listlayers(gdb_path)\n",
    "print(\"Available layers:\", layers)\n",
    "\n",
    "# Load a specific layer\n",
    "layer_name = layers[0]  # Choose the layer you want to load\n",
    "gdf = gpd.read_file(gdb_path, layer=layer_name)\n",
    "\n",
    "# Display the GeoDataFrame\n",
    "print(gdf.head())"
   ]
  },
  {
   "cell_type": "code",
   "execution_count": 7,
   "id": "49653490-31f8-40d3-be6e-ed3d95412dc3",
   "metadata": {},
   "outputs": [
    {
     "name": "stdout",
     "output_type": "stream",
     "text": [
      "<class 'geopandas.geodataframe.GeoDataFrame'>\n",
      "RangeIndex: 2428660 entries, 0 to 2428659\n",
      "Data columns (total 16 columns):\n",
      " #   Column                 Dtype         \n",
      "---  ------                 -----         \n",
      " 0   PARCEL_FABRIC_POLY_ID  int32         \n",
      " 1   PARCEL_NAME            object        \n",
      " 2   PLAN_NUMBER            object        \n",
      " 3   PIN                    float64       \n",
      " 4   PID                    float64       \n",
      " 5   PARCEL_STATUS          object        \n",
      " 6   PARCEL_CLASS           object        \n",
      " 7   OWNER_TYPE             object        \n",
      " 8   PARCEL_START_DATE      datetime64[ms]\n",
      " 9   MUNICIPALITY           object        \n",
      " 10  REGIONAL_DISTRICT      object        \n",
      " 11  WHEN_UPDATED           datetime64[ms]\n",
      " 12  FEATURE_AREA_SQM       float64       \n",
      " 13  FEATURE_LENGTH_M       float64       \n",
      " 14  SE_ANNO_CAD_DATA       object        \n",
      " 15  geometry               geometry      \n",
      "dtypes: datetime64[ms](2), float64(4), geometry(1), int32(1), object(8)\n",
      "memory usage: 287.2+ MB\n",
      "None\n"
     ]
    }
   ],
   "source": [
    "print(gdf.info())\n"
   ]
  },
  {
   "cell_type": "code",
   "execution_count": 8,
   "id": "b6d91945-4097-4338-85aa-d9a5b6e44324",
   "metadata": {},
   "outputs": [
    {
     "name": "stdout",
     "output_type": "stream",
     "text": [
      "Index(['PARCEL_FABRIC_POLY_ID', 'PARCEL_NAME', 'PLAN_NUMBER', 'PIN', 'PID',\n",
      "       'PARCEL_STATUS', 'PARCEL_CLASS', 'OWNER_TYPE', 'PARCEL_START_DATE',\n",
      "       'MUNICIPALITY', 'REGIONAL_DISTRICT', 'WHEN_UPDATED', 'FEATURE_AREA_SQM',\n",
      "       'FEATURE_LENGTH_M', 'SE_ANNO_CAD_DATA', 'geometry'],\n",
      "      dtype='object')\n"
     ]
    }
   ],
   "source": [
    "print(gdf.columns)\n"
   ]
  },
  {
   "cell_type": "code",
   "execution_count": 9,
   "id": "c7c4a38e-675e-4a24-9793-52b91456201e",
   "metadata": {},
   "outputs": [
    {
     "name": "stdout",
     "output_type": "stream",
     "text": [
      "       PARCEL_FABRIC_POLY_ID           PIN           PID  \\\n",
      "count           2.428660e+06  2.213740e+05  2.238820e+06   \n",
      "mean            5.717586e+06  2.713667e+07  1.588954e+07   \n",
      "min             7.189600e+05  0.000000e+00  1.900000e+01   \n",
      "25%             3.216968e+06  6.960948e+06  7.004229e+06   \n",
      "50%             5.727300e+06  1.612452e+07  1.457528e+07   \n",
      "75%             8.212730e+06  2.973129e+07  2.609435e+07   \n",
      "max             1.070547e+07  9.401034e+08  3.233771e+07   \n",
      "std             2.885490e+06  3.005863e+07  1.006753e+07   \n",
      "\n",
      "                PARCEL_START_DATE                WHEN_UPDATED  \\\n",
      "count                     1470858                     2428660   \n",
      "mean   2007-02-07 22:50:14.764000  2021-01-20 06:38:32.524000   \n",
      "min           1848-07-17 00:00:00         2016-04-21 02:53:19   \n",
      "25%           2003-04-30 00:00:00         2019-01-12 14:03:51   \n",
      "50%           2010-12-22 00:00:00         2020-01-24 15:13:34   \n",
      "75%           2016-04-05 00:00:00         2023-05-04 14:34:33   \n",
      "max           2024-09-25 10:10:14         2024-09-28 22:02:48   \n",
      "std                           NaN                         NaN   \n",
      "\n",
      "       FEATURE_AREA_SQM  FEATURE_LENGTH_M  \n",
      "count      2.428660e+06      2.428660e+06  \n",
      "mean       4.832409e+04      4.946525e+02  \n",
      "min        6.000000e-04      1.562000e-01  \n",
      "25%        6.198822e+02      1.076441e+02  \n",
      "50%        1.523182e+03      1.720369e+02  \n",
      "75%        8.344984e+03      4.239820e+02  \n",
      "max        1.241222e+09      3.778334e+05  \n",
      "std        1.361212e+06      1.479394e+03  \n"
     ]
    }
   ],
   "source": [
    "print(gdf.describe())\n"
   ]
  },
  {
   "cell_type": "code",
   "execution_count": 10,
   "id": "b9fdebf5-b3f5-491a-95d9-7876f59acbfc",
   "metadata": {},
   "outputs": [
    {
     "name": "stdout",
     "output_type": "stream",
     "text": [
      "Index: 0\n",
      "Geometry: MULTIPOLYGON (((1231687.5502000004 468848.76779999956, 1231636.3427000009 468846.3457999993, 1231636.1515999995 468851.21990000084, 1231637.8500999995 468850.8663999997, 1231639.4945999999 468850.3136, 1231641.0617999993 468849.5692999996, 1231687.4104999993 468851.76139999926, 1231687.5502000004 468848.76779999956)))\n",
      "Attributes: PARCEL_FABRIC_POLY_ID                                               719065\n",
      "PARCEL_NAME                                                           Road\n",
      "PLAN_NUMBER                                                       EPP39710\n",
      "PIN                                                                    NaN\n",
      "PID                                                                    NaN\n",
      "PARCEL_STATUS                                                       Active\n",
      "PARCEL_CLASS                                                          Road\n",
      "OWNER_TYPE                                                Local Government\n",
      "PARCEL_START_DATE                                                      NaT\n",
      "MUNICIPALITY                                               Surrey, City of\n",
      "REGIONAL_DISTRICT                        Metro Vancouver Regional District\n",
      "WHEN_UPDATED                                           2024-08-18 17:20:23\n",
      "FEATURE_AREA_SQM                                                   158.958\n",
      "FEATURE_LENGTH_M                                                  110.7478\n",
      "SE_ANNO_CAD_DATA                                                      None\n",
      "geometry                 MULTIPOLYGON (((1231687.5502000004 468848.7677...\n",
      "Name: 0, dtype: object\n",
      "\n",
      "Index: 1\n",
      "Geometry: MULTIPOLYGON (((1235402.8304999992 468619.9799000006, 1235383.4484 468619.20380000025, 1235382.0292000007 468653.22289999947, 1235401.4209000003 468654.00909999944, 1235402.8304999992 468619.9799000006)))\n",
      "Attributes: PARCEL_FABRIC_POLY_ID                                               719070\n",
      "PARCEL_NAME                                                      012462314\n",
      "PLAN_NUMBER                                                        NWP2004\n",
      "PIN                                                                    NaN\n",
      "PID                                                             12462314.0\n",
      "PARCEL_STATUS                                                       Active\n",
      "PARCEL_CLASS                                                   Subdivision\n",
      "OWNER_TYPE                                                Local Government\n",
      "PARCEL_START_DATE                                      1997-02-13 00:00:00\n",
      "MUNICIPALITY                                               Surrey, City of\n",
      "REGIONAL_DISTRICT                        Metro Vancouver Regional District\n",
      "WHEN_UPDATED                                           2024-08-18 17:20:29\n",
      "FEATURE_AREA_SQM                                                  660.7277\n",
      "FEATURE_LENGTH_M                                                  106.9123\n",
      "SE_ANNO_CAD_DATA                                                      None\n",
      "geometry                 MULTIPOLYGON (((1235402.8304999992 468619.9799...\n",
      "Name: 1, dtype: object\n",
      "\n",
      "Index: 2\n",
      "Geometry: MULTIPOLYGON (((1240199.7346 460082.2667999994, 1240153.9411999993 460080.4321999997, 1240147.9464999996 460080.1963999998, 1240151.329500001 459997.3770000003, 1240161.1462999992 459981.8032000009, 1240143.1318999995 459981.1043999996, 1240125.1285999995 459980.38599999994, 1240107.1258000005 459979.6576000005, 1240092.0076000001 459979.05450000055, 1240089.1223000009 459978.93930000067, 1240071.1191000007 459978.22110000066, 1240068.6170000006 459978.1242999993, 1240051.0101999994 459977.42149999924, 1240050.6038000006 459977.4053000007, 1240032.6002999991 459976.6871000007, 1240014.5971000008 459975.96869999915, 1240009.3633999992 459975.75549999997, 1240008.9743000008 459986.0504999999, 1240008.1312000006 460008.3048999999, 1240007.4613000005 460025.9826999996, 1240007.2629000004 460031.1933999993, 1240005.9561 460065.4949999992, 1240005.613 460074.4818999991, 1240010.5964000002 460074.6844999995, 1240010.1783000007 460084.71839999966, 1240000.1206999999 460084.3192999996, 1239996.4276 460173.00659999996, 1239996.2884999998 460176.5011999998, 1239994.7049000002 460214.56010000035, 1239994.6032999996 460216.9461000003, 1239993.5754000004 460241.7464000005, 1239992.3280999996 460271.68840000033, 1240013.3310000002 460272.58469999954, 1240042.4990999997 460273.8295000009, 1240061.0004999992 460274.6191000007, 1240079.3118999992 460275.4004999995, 1240097.6132999994 460276.18180000037, 1240100.1148000006 460276.2885999996, 1240118.4162000008 460277.0695999991, 1240136.7174999993 460277.8507000003, 1240155.0288999993 460278.6320999991, 1240173.33 460279.4132000003, 1240191.6315000001 460280.19439999945, 1240199.7346 460082.2667999994)))\n",
      "Attributes: PARCEL_FABRIC_POLY_ID                                               719075\n",
      "PARCEL_NAME                                                      017150728\n",
      "PLAN_NUMBER                                                       NWP88218\n",
      "PIN                                                                    NaN\n",
      "PID                                                             17150728.0\n",
      "PARCEL_STATUS                                                       Active\n",
      "PARCEL_CLASS                                                   Subdivision\n",
      "OWNER_TYPE                                                Local Government\n",
      "PARCEL_START_DATE                                                      NaT\n",
      "MUNICIPALITY                                               Surrey, City of\n",
      "REGIONAL_DISTRICT                        Metro Vancouver Regional District\n",
      "WHEN_UPDATED                                           2024-08-18 17:20:29\n",
      "FEATURE_AREA_SQM                                                53513.2709\n",
      "FEATURE_LENGTH_M                                                 1014.0334\n",
      "SE_ANNO_CAD_DATA                                                      None\n",
      "geometry                 MULTIPOLYGON (((1240199.7346 460082.2667999994...\n",
      "Name: 2, dtype: object\n",
      "\n",
      "Index: 3\n",
      "Geometry: MULTIPOLYGON (((1236624.8976000007 468064.51669999957, 1236561.3461000007 468060.5867999997, 1236560.0128000006 468098.2201000005, 1236623.5737999994 468102.16039999947, 1236624.8976000007 468064.51669999957)))\n",
      "Attributes: PARCEL_FABRIC_POLY_ID                                               719080\n",
      "PARCEL_NAME                                                      013190121\n",
      "PLAN_NUMBER                                                        NO_PLAN\n",
      "PIN                                                                    NaN\n",
      "PID                                                             13190121.0\n",
      "PARCEL_STATUS                                                       Active\n",
      "PARCEL_CLASS                                                   Subdivision\n",
      "OWNER_TYPE                                                Local Government\n",
      "PARCEL_START_DATE                                                      NaT\n",
      "MUNICIPALITY                                               Surrey, City of\n",
      "REGIONAL_DISTRICT                        Metro Vancouver Regional District\n",
      "WHEN_UPDATED                                           2024-08-18 17:20:36\n",
      "FEATURE_AREA_SQM                                                 2397.3899\n",
      "FEATURE_LENGTH_M                                                  202.6798\n",
      "SE_ANNO_CAD_DATA                                                      None\n",
      "geometry                 MULTIPOLYGON (((1236624.8976000007 468064.5166...\n",
      "Name: 3, dtype: object\n",
      "\n"
     ]
    }
   ],
   "source": [
    "for index, row in gdf.iterrows():\n",
    "    print(f\"Index: {index}\")\n",
    "    print(f\"Geometry: {row['geometry']}\")  # The geometry column\n",
    "    print(f\"Attributes: {row}\")  # Access all attributes for that row\n",
    "    print()  # Add spacing between rows for clarity\n",
    "\n",
    "    if index > 2:\n",
    "        break"
   ]
  },
  {
   "cell_type": "code",
   "execution_count": 12,
   "id": "2574453d-d66c-4fe5-84a6-c8fe077f4ecc",
   "metadata": {},
   "outputs": [
    {
     "name": "stdout",
     "output_type": "stream",
     "text": [
      "0 MULTIPOLYGON (((1231687.5502000004 468848.76779999956, 1231636.3427000009 468846.3457999993, 1231636.1515999995 468851.21990000084, 1231637.8500999995 468850.8663999997, 1231639.4945999999 468850.3136, 1231641.0617999993 468849.5692999996, 1231687.4104999993 468851.76139999926, 1231687.5502000004 468848.76779999956)))\n",
      "1 MULTIPOLYGON (((1235402.8304999992 468619.9799000006, 1235383.4484 468619.20380000025, 1235382.0292000007 468653.22289999947, 1235401.4209000003 468654.00909999944, 1235402.8304999992 468619.9799000006)))\n",
      "2 MULTIPOLYGON (((1240199.7346 460082.2667999994, 1240153.9411999993 460080.4321999997, 1240147.9464999996 460080.1963999998, 1240151.329500001 459997.3770000003, 1240161.1462999992 459981.8032000009, 1240143.1318999995 459981.1043999996, 1240125.1285999995 459980.38599999994, 1240107.1258000005 459979.6576000005, 1240092.0076000001 459979.05450000055, 1240089.1223000009 459978.93930000067, 1240071.1191000007 459978.22110000066, 1240068.6170000006 459978.1242999993, 1240051.0101999994 459977.42149999924, 1240050.6038000006 459977.4053000007, 1240032.6002999991 459976.6871000007, 1240014.5971000008 459975.96869999915, 1240009.3633999992 459975.75549999997, 1240008.9743000008 459986.0504999999, 1240008.1312000006 460008.3048999999, 1240007.4613000005 460025.9826999996, 1240007.2629000004 460031.1933999993, 1240005.9561 460065.4949999992, 1240005.613 460074.4818999991, 1240010.5964000002 460074.6844999995, 1240010.1783000007 460084.71839999966, 1240000.1206999999 460084.3192999996, 1239996.4276 460173.00659999996, 1239996.2884999998 460176.5011999998, 1239994.7049000002 460214.56010000035, 1239994.6032999996 460216.9461000003, 1239993.5754000004 460241.7464000005, 1239992.3280999996 460271.68840000033, 1240013.3310000002 460272.58469999954, 1240042.4990999997 460273.8295000009, 1240061.0004999992 460274.6191000007, 1240079.3118999992 460275.4004999995, 1240097.6132999994 460276.18180000037, 1240100.1148000006 460276.2885999996, 1240118.4162000008 460277.0695999991, 1240136.7174999993 460277.8507000003, 1240155.0288999993 460278.6320999991, 1240173.33 460279.4132000003, 1240191.6315000001 460280.19439999945, 1240199.7346 460082.2667999994)))\n",
      "3 MULTIPOLYGON (((1236624.8976000007 468064.51669999957, 1236561.3461000007 468060.5867999997, 1236560.0128000006 468098.2201000005, 1236623.5737999994 468102.16039999947, 1236624.8976000007 468064.51669999957)))\n"
     ]
    }
   ],
   "source": [
    "for g, geometry in enumerate(gdf['geometry']):\n",
    "    print(g, geometry)\n",
    "    if g > 2:\n",
    "        break"
   ]
  },
  {
   "cell_type": "code",
   "execution_count": 13,
   "id": "ef5a974d-0964-463f-9bc9-6ff0c6215c6f",
   "metadata": {},
   "outputs": [
    {
     "name": "stderr",
     "output_type": "stream",
     "text": [
      "\n",
      "KeyboardInterrupt\n",
      "\n",
      "Exception ignored in: <bound method IPythonKernel._clean_thread_parent_frames of <ipykernel.ipkernel.IPythonKernel object at 0x7f89c711ae90>>\n",
      "Traceback (most recent call last):\n",
      "  File \"/home/liamgraham123/landwise_analytica/landwise_env/lib/python3.11/site-packages/ipykernel/ipkernel.py\", line 775, in _clean_thread_parent_frames\n",
      "    def _clean_thread_parent_frames(\n",
      "\n",
      "KeyboardInterrupt: \n"
     ]
    },
    {
     "name": "stdout",
     "output_type": "stream",
     "text": [
      "Error in callback <function flush_figures at 0x7f88e6ddf060> (for post_execute), with arguments args (),kwargs {}:\n"
     ]
    },
    {
     "name": "stderr",
     "output_type": "stream",
     "text": [
      "\n",
      "KeyboardInterrupt\n",
      "\n"
     ]
    }
   ],
   "source": [
    "# gdf.plot() #takes a long time\n"
   ]
  },
  {
   "cell_type": "code",
   "execution_count": 15,
   "id": "830b3b51-ba10-4d5b-ae03-861de7bff39e",
   "metadata": {
    "scrolled": true
   },
   "outputs": [
    {
     "name": "stderr",
     "output_type": "stream",
     "text": [
      "Exception ignored in: <bound method IPythonKernel._clean_thread_parent_frames of <ipykernel.ipkernel.IPythonKernel object at 0x7f89c711ae90>>\n",
      "Traceback (most recent call last):\n",
      "  File \"/home/liamgraham123/landwise_analytica/landwise_env/lib/python3.11/site-packages/ipykernel/ipkernel.py\", line 775, in _clean_thread_parent_frames\n",
      "    def _clean_thread_parent_frames(\n",
      "\n",
      "KeyboardInterrupt: \n"
     ]
    },
    {
     "ename": "KeyboardInterrupt",
     "evalue": "",
     "output_type": "error",
     "traceback": [
      "\u001b[0;31m---------------------------------------------------------------------------\u001b[0m",
      "\u001b[0;31mKeyboardInterrupt\u001b[0m                         Traceback (most recent call last)",
      "    \u001b[0;31m[... skipping hidden 1 frame]\u001b[0m\n",
      "Cell \u001b[0;32mIn[15], line 7\u001b[0m\n\u001b[1;32m      6\u001b[0m \u001b[38;5;66;03m# Add GeoDataFrame to the folium map\u001b[39;00m\n\u001b[0;32m----> 7\u001b[0m \u001b[43mfolium\u001b[49m\u001b[38;5;241;43m.\u001b[39;49m\u001b[43mGeoJson\u001b[49m\u001b[43m(\u001b[49m\u001b[43mgdf\u001b[49m\u001b[43m)\u001b[49m\u001b[38;5;241m.\u001b[39madd_to(m)\n\u001b[1;32m      9\u001b[0m \u001b[38;5;66;03m# Display the map in a Jupyter notebook (or save it to HTML)\u001b[39;00m\n",
      "File \u001b[0;32m~/landwise_analytica/landwise_env/lib/python3.11/site-packages/folium/features.py:697\u001b[0m, in \u001b[0;36mGeoJson.__init__\u001b[0;34m(self, data, style_function, highlight_function, popup_keep_highlighted, name, overlay, control, show, smooth_factor, tooltip, embed, popup, zoom_on_click, marker, **kwargs)\u001b[0m\n\u001b[1;32m    695\u001b[0m \u001b[38;5;28mself\u001b[39m\u001b[38;5;241m.\u001b[39moptions \u001b[38;5;241m=\u001b[39m parse_options(\u001b[38;5;241m*\u001b[39m\u001b[38;5;241m*\u001b[39mkwargs)\n\u001b[0;32m--> 697\u001b[0m \u001b[38;5;28mself\u001b[39m\u001b[38;5;241m.\u001b[39mdata \u001b[38;5;241m=\u001b[39m \u001b[38;5;28;43mself\u001b[39;49m\u001b[38;5;241;43m.\u001b[39;49m\u001b[43mprocess_data\u001b[49m\u001b[43m(\u001b[49m\u001b[43mdata\u001b[49m\u001b[43m)\u001b[49m\n\u001b[1;32m    699\u001b[0m \u001b[38;5;28;01mif\u001b[39;00m \u001b[38;5;28mself\u001b[39m\u001b[38;5;241m.\u001b[39mstyle \u001b[38;5;129;01mor\u001b[39;00m \u001b[38;5;28mself\u001b[39m\u001b[38;5;241m.\u001b[39mhighlight:\n",
      "File \u001b[0;32m~/landwise_analytica/landwise_env/lib/python3.11/site-packages/folium/features.py:736\u001b[0m, in \u001b[0;36mGeoJson.process_data\u001b[0;34m(self, data)\u001b[0m\n\u001b[1;32m    735\u001b[0m             \u001b[38;5;28;01mreturn\u001b[39;00m json\u001b[38;5;241m.\u001b[39mloads(f\u001b[38;5;241m.\u001b[39mread())\n\u001b[0;32m--> 736\u001b[0m \u001b[38;5;28;01melif\u001b[39;00m \u001b[38;5;28;43mhasattr\u001b[39;49m\u001b[43m(\u001b[49m\u001b[43mdata\u001b[49m\u001b[43m,\u001b[49m\u001b[43m \u001b[49m\u001b[38;5;124;43m\"\u001b[39;49m\u001b[38;5;124;43m__geo_interface__\u001b[39;49m\u001b[38;5;124;43m\"\u001b[39;49m\u001b[43m)\u001b[49m:\n\u001b[1;32m    737\u001b[0m     \u001b[38;5;28mself\u001b[39m\u001b[38;5;241m.\u001b[39membed \u001b[38;5;241m=\u001b[39m \u001b[38;5;28;01mTrue\u001b[39;00m\n",
      "File \u001b[0;32m~/landwise_analytica/landwise_env/lib/python3.11/site-packages/geopandas/geodataframe.py:996\u001b[0m, in \u001b[0;36mGeoDataFrame.__geo_interface__\u001b[0;34m(self)\u001b[0m\n\u001b[1;32m    966\u001b[0m \u001b[38;5;250m        \u001b[39m\u001b[38;5;124;03m\"\"\"Returns a ``GeoDataFrame`` as a python feature collection.\u001b[39;00m\n\u001b[1;32m    967\u001b[0m \n\u001b[1;32m    968\u001b[0m \u001b[38;5;124;03m        Implements the `geo_interface`. The returned python data structure\u001b[39;00m\n\u001b[0;32m   (...)\u001b[0m\n\u001b[1;32m    994\u001b[0m \u001b[38;5;124;03mbox': (2.0, 1.0, 2.0, 1.0)}], 'bbox': (1.0, 1.0, 2.0, 2.0)}\u001b[39;00m\n\u001b[1;32m    995\u001b[0m \u001b[38;5;124;03m        \"\"\"\u001b[39;00m\n\u001b[0;32m--> 996\u001b[0m         \u001b[38;5;28;01mreturn\u001b[39;00m \u001b[38;5;28;43mself\u001b[39;49m\u001b[38;5;241;43m.\u001b[39;49m\u001b[43mto_geo_dict\u001b[49m\u001b[43m(\u001b[49m\u001b[43mna\u001b[49m\u001b[38;5;241;43m=\u001b[39;49m\u001b[38;5;124;43m\"\u001b[39;49m\u001b[38;5;124;43mnull\u001b[39;49m\u001b[38;5;124;43m\"\u001b[39;49m\u001b[43m,\u001b[49m\u001b[43m \u001b[49m\u001b[43mshow_bbox\u001b[49m\u001b[38;5;241;43m=\u001b[39;49m\u001b[38;5;28;43;01mTrue\u001b[39;49;00m\u001b[43m,\u001b[49m\u001b[43m \u001b[49m\u001b[43mdrop_id\u001b[49m\u001b[38;5;241;43m=\u001b[39;49m\u001b[38;5;28;43;01mFalse\u001b[39;49;00m\u001b[43m)\u001b[49m\n",
      "File \u001b[0;32m~/landwise_analytica/landwise_env/lib/python3.11/site-packages/geopandas/geodataframe.py:1154\u001b[0m, in \u001b[0;36mGeoDataFrame.to_geo_dict\u001b[0;34m(self, na, show_bbox, drop_id)\u001b[0m\n\u001b[1;32m   1107\u001b[0m \u001b[38;5;250m\u001b[39m\u001b[38;5;124;03m\"\"\"\u001b[39;00m\n\u001b[1;32m   1108\u001b[0m \u001b[38;5;124;03mReturns a python feature collection representation of the GeoDataFrame\u001b[39;00m\n\u001b[1;32m   1109\u001b[0m \u001b[38;5;124;03mas a dictionary with a list of features based on the ``__geo_interface__``\u001b[39;00m\n\u001b[0;32m   (...)\u001b[0m\n\u001b[1;32m   1150\u001b[0m \n\u001b[1;32m   1151\u001b[0m \u001b[38;5;124;03m\"\"\"\u001b[39;00m\n\u001b[1;32m   1152\u001b[0m geo \u001b[38;5;241m=\u001b[39m {\n\u001b[1;32m   1153\u001b[0m     \u001b[38;5;124m\"\u001b[39m\u001b[38;5;124mtype\u001b[39m\u001b[38;5;124m\"\u001b[39m: \u001b[38;5;124m\"\u001b[39m\u001b[38;5;124mFeatureCollection\u001b[39m\u001b[38;5;124m\"\u001b[39m,\n\u001b[0;32m-> 1154\u001b[0m     \u001b[38;5;124m\"\u001b[39m\u001b[38;5;124mfeatures\u001b[39m\u001b[38;5;124m\"\u001b[39m: \u001b[38;5;28;43mlist\u001b[39;49m\u001b[43m(\u001b[49m\n\u001b[1;32m   1155\u001b[0m \u001b[43m        \u001b[49m\u001b[38;5;28;43mself\u001b[39;49m\u001b[38;5;241;43m.\u001b[39;49m\u001b[43miterfeatures\u001b[49m\u001b[43m(\u001b[49m\u001b[43mna\u001b[49m\u001b[38;5;241;43m=\u001b[39;49m\u001b[43mna\u001b[49m\u001b[43m,\u001b[49m\u001b[43m \u001b[49m\u001b[43mshow_bbox\u001b[49m\u001b[38;5;241;43m=\u001b[39;49m\u001b[43mshow_bbox\u001b[49m\u001b[43m,\u001b[49m\u001b[43m \u001b[49m\u001b[43mdrop_id\u001b[49m\u001b[38;5;241;43m=\u001b[39;49m\u001b[43mdrop_id\u001b[49m\u001b[43m)\u001b[49m\n\u001b[1;32m   1156\u001b[0m \u001b[43m    \u001b[49m\u001b[43m)\u001b[49m,\n\u001b[1;32m   1157\u001b[0m }\n\u001b[1;32m   1159\u001b[0m \u001b[38;5;28;01mif\u001b[39;00m show_bbox:\n",
      "File \u001b[0;32m~/landwise_analytica/landwise_env/lib/python3.11/site-packages/geopandas/geodataframe.py:1083\u001b[0m, in \u001b[0;36mGeoDataFrame.iterfeatures\u001b[0;34m(self, na, show_bbox, drop_id)\u001b[0m\n\u001b[1;32m   1082\u001b[0m feature[\u001b[38;5;124m\"\u001b[39m\u001b[38;5;124mproperties\u001b[39m\u001b[38;5;124m\"\u001b[39m] \u001b[38;5;241m=\u001b[39m properties_items\n\u001b[0;32m-> 1083\u001b[0m feature[\u001b[38;5;124m\"\u001b[39m\u001b[38;5;124mgeometry\u001b[39m\u001b[38;5;124m\"\u001b[39m] \u001b[38;5;241m=\u001b[39m \u001b[43mmapping\u001b[49m\u001b[43m(\u001b[49m\u001b[43mgeom\u001b[49m\u001b[43m)\u001b[49m \u001b[38;5;28;01mif\u001b[39;00m geom \u001b[38;5;28;01melse\u001b[39;00m \u001b[38;5;28;01mNone\u001b[39;00m\n\u001b[1;32m   1085\u001b[0m \u001b[38;5;28;01mif\u001b[39;00m show_bbox:\n",
      "File \u001b[0;32m~/landwise_analytica/landwise_env/lib/python3.11/site-packages/shapely/geometry/geo.py:135\u001b[0m, in \u001b[0;36mmapping\u001b[0;34m(ob)\u001b[0m\n\u001b[1;32m    116\u001b[0m \u001b[38;5;250m\u001b[39m\u001b[38;5;124;03m\"\"\"\u001b[39;00m\n\u001b[1;32m    117\u001b[0m \u001b[38;5;124;03mReturns a GeoJSON-like mapping from a Geometry or any\u001b[39;00m\n\u001b[1;32m    118\u001b[0m \u001b[38;5;124;03mobject which implements __geo_interface__\u001b[39;00m\n\u001b[0;32m   (...)\u001b[0m\n\u001b[1;32m    133\u001b[0m \u001b[38;5;124;03m{'type': 'Point', 'coordinates': (0.0, 0.0)}\u001b[39;00m\n\u001b[1;32m    134\u001b[0m \u001b[38;5;124;03m\"\"\"\u001b[39;00m\n\u001b[0;32m--> 135\u001b[0m \u001b[38;5;28;01mreturn\u001b[39;00m \u001b[43mob\u001b[49m\u001b[38;5;241;43m.\u001b[39;49m\u001b[43m__geo_interface__\u001b[49m\n",
      "File \u001b[0;32m~/landwise_analytica/landwise_env/lib/python3.11/site-packages/shapely/geometry/multipolygon.py:96\u001b[0m, in \u001b[0;36mMultiPolygon.__geo_interface__\u001b[0;34m(self)\u001b[0m\n\u001b[1;32m     95\u001b[0m coords \u001b[38;5;241m=\u001b[39m []\n\u001b[0;32m---> 96\u001b[0m coords\u001b[38;5;241m.\u001b[39mappend(\u001b[38;5;28mtuple\u001b[39m(geom\u001b[38;5;241m.\u001b[39mexterior\u001b[38;5;241m.\u001b[39mcoords))\n\u001b[1;32m     97\u001b[0m \u001b[38;5;28;01mfor\u001b[39;00m hole \u001b[38;5;129;01min\u001b[39;00m geom\u001b[38;5;241m.\u001b[39minteriors:\n",
      "File \u001b[0;32m~/landwise_analytica/landwise_env/lib/python3.11/site-packages/shapely/coords.py:28\u001b[0m, in \u001b[0;36mCoordinateSequence.__iter__\u001b[0;34m(self)\u001b[0m\n\u001b[1;32m     27\u001b[0m \u001b[38;5;28;01mfor\u001b[39;00m i \u001b[38;5;129;01min\u001b[39;00m \u001b[38;5;28mrange\u001b[39m(\u001b[38;5;28mself\u001b[39m\u001b[38;5;241m.\u001b[39m\u001b[38;5;21m__len__\u001b[39m()):\n\u001b[0;32m---> 28\u001b[0m     \u001b[38;5;28;01myield\u001b[39;00m \u001b[38;5;28mtuple\u001b[39m(\u001b[38;5;28mself\u001b[39m\u001b[38;5;241m.\u001b[39m_coords[i]\u001b[38;5;241m.\u001b[39mtolist())\n",
      "\u001b[0;31mKeyboardInterrupt\u001b[0m: ",
      "\nDuring handling of the above exception, another exception occurred:\n",
      "\u001b[0;31mKeyboardInterrupt\u001b[0m                         Traceback (most recent call last)",
      "File \u001b[0;32m~/landwise_analytica/landwise_env/lib/python3.11/site-packages/IPython/core/interactiveshell.py:3598\u001b[0m, in \u001b[0;36mInteractiveShell.run_code\u001b[0;34m(self, code_obj, result, async_)\u001b[0m\n\u001b[1;32m   3596\u001b[0m \u001b[38;5;28;01mexcept\u001b[39;00m:\n\u001b[1;32m   3597\u001b[0m     \u001b[38;5;28;01mif\u001b[39;00m result \u001b[38;5;129;01mis\u001b[39;00m \u001b[38;5;129;01mnot\u001b[39;00m \u001b[38;5;28;01mNone\u001b[39;00m:\n\u001b[0;32m-> 3598\u001b[0m         result\u001b[38;5;241m.\u001b[39merror_in_exec \u001b[38;5;241m=\u001b[39m \u001b[43msys\u001b[49m\u001b[38;5;241;43m.\u001b[39;49m\u001b[43mexc_info\u001b[49m\u001b[43m(\u001b[49m\u001b[43m)\u001b[49m[\u001b[38;5;241m1\u001b[39m]\n\u001b[1;32m   3599\u001b[0m     \u001b[38;5;28mself\u001b[39m\u001b[38;5;241m.\u001b[39mshowtraceback(running_compiled_code\u001b[38;5;241m=\u001b[39m\u001b[38;5;28;01mTrue\u001b[39;00m)\n\u001b[1;32m   3600\u001b[0m \u001b[38;5;28;01melse\u001b[39;00m:\n",
      "\u001b[0;31mKeyboardInterrupt\u001b[0m: "
     ]
    }
   ],
   "source": [
    "#Takes a long time\n",
    "\n",
    "center = gdf.geometry.centroid[0].coords[0][::-1]  # Get lat, lon from the first geometry's centroid\n",
    "\n",
    "# Create a folium map centered at the data location\n",
    "m = folium.Map(location=center, zoom_start=12)\n",
    "\n",
    "# Add GeoDataFrame to the folium map\n",
    "folium.GeoJson(gdf).add_to(m)\n",
    "\n",
    "# Display the map in a Jupyter notebook (or save it to HTML)\n",
    "m.save(\"map.html\")"
   ]
  },
  {
   "cell_type": "code",
   "execution_count": 21,
   "id": "34ff32e2-27b8-4fdf-aab8-74ac5db8176e",
   "metadata": {},
   "outputs": [],
   "source": [
    "center = gdf.geometry.centroid[1].coords[0][::-1]  # Get lat, lon from the first geometry's centroid\n"
   ]
  },
  {
   "cell_type": "code",
   "execution_count": 22,
   "id": "23ecfdb5-a91f-4c2e-9304-426dbee94d91",
   "metadata": {},
   "outputs": [
    {
     "data": {
      "text/plain": [
       "(468636.60540651286, 1235392.432649626)"
      ]
     },
     "execution_count": 22,
     "metadata": {},
     "output_type": "execute_result"
    }
   ],
   "source": [
    "center"
   ]
  },
  {
   "cell_type": "code",
   "execution_count": 20,
   "id": "6584020c-73be-4e24-aabd-12b34d7bf148",
   "metadata": {},
   "outputs": [
    {
     "data": {
      "text/plain": [
       "0                 NaN\n",
       "1          12462314.0\n",
       "2          17150728.0\n",
       "3          13190121.0\n",
       "4          23452145.0\n",
       "              ...    \n",
       "2428655    18872344.0\n",
       "2428656    18872883.0\n",
       "2428657    18872387.0\n",
       "2428658    18872875.0\n",
       "2428659    18872417.0\n",
       "Name: PID, Length: 2428660, dtype: float64"
      ]
     },
     "execution_count": 20,
     "metadata": {},
     "output_type": "execute_result"
    }
   ],
   "source": [
    "gdf.PID"
   ]
  },
  {
   "cell_type": "code",
   "execution_count": null,
   "id": "d018b9fb-7e70-421d-b6af-c61f9516bdb6",
   "metadata": {},
   "outputs": [],
   "source": []
  }
 ],
 "metadata": {
  "kernelspec": {
   "display_name": "Python 3 (ipykernel)",
   "language": "python",
   "name": "python3"
  },
  "language_info": {
   "codemirror_mode": {
    "name": "ipython",
    "version": 3
   },
   "file_extension": ".py",
   "mimetype": "text/x-python",
   "name": "python",
   "nbconvert_exporter": "python",
   "pygments_lexer": "ipython3",
   "version": "3.11.2"
  }
 },
 "nbformat": 4,
 "nbformat_minor": 5
}
